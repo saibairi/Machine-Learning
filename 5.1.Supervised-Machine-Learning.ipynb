{
 "cells": [
  {
   "cell_type": "markdown",
   "id": "9adab1a7-4c61-44d2-a246-062b6f1fa785",
   "metadata": {},
   "source": [
    "# What is Supervised Machine Learning?\n",
    "\n",
    "Supervised learning, also known as supervised machine learning, is a type of machine learning that trains the model using labeled datasets to predict outcomes. A Labeled dataset is one that consists of input data (features) along with corresponding output data (targets).\n",
    "\n",
    "The main objective of supervised learning algorithms is to learn an association between input data samples and corresponding outputs after performing multiple training data instances."
   ]
  },
  {
   "cell_type": "markdown",
   "id": "69fa019c-e178-4598-ad42-741c5441bb3b",
   "metadata": {},
   "source": [
    "# How does Supervised Learning Work?\n",
    "\n",
    "In supervised machine learning, models are trained using a dataset that consists of input-output pairs.\n",
    "\n",
    "\n",
    "The supervised learning algorithm analyzes the dataset and learns the relation between the input data (features) and correct output (labels/ targets). In the process of training, the model estimates the algorithm's parameters by minimizing a loss function. The loss function measures the difference between the model's predictions and actual target values.\n",
    "\n",
    "\n",
    "The model iteratively updates its parameters until the loss/ error has been sufficiently minimized.\n",
    "\n",
    "\n",
    "Once the training is completed, the model parameters have optimal values. The model has learned the optimal mapping/ relation between the inputs and targets. Now, the model can predict values for the new and unseen input data."
   ]
  },
  {
   "cell_type": "markdown",
   "id": "d19a501a-3bb1-4082-bdfc-f91c4ded9c76",
   "metadata": {},
   "source": [
    "# Types of Supervised Learning Algorithm\n",
    "\n",
    "Supervised machine learning is categorized into two types of problems − classification and regression.\n",
    "\n",
    "### 1. Classification\n",
    "   \n",
    "The key objective of classification-based tasks is to predict categorical output labels or responses for the given input data such as true-false, male-female, yes-no etc. As we know, the categorical output responses mean unordered and discrete values; hence, each output response will belong to a specific class or category.\n",
    "\n",
    "Some popular classification algorithms are decision trees, random forests, support vector machines (SVM), logistic regression, etc.\n",
    "\n",
    "### 2. Regression\n",
    "   \n",
    "The key objective of regression-based tasks is to predict output labels or responses, which are continuous numeric values, for the given input data. Basically, regression models use the input data features (independent variables) and their corresponding continuous numeric output values (dependent or outcome variables) to learn specific associations between inputs and corresponding outputs.\n",
    "\n",
    "Some popular regression algorithms are linear regression, polynomial regression, Laso regression, etc."
   ]
  },
  {
   "cell_type": "markdown",
   "id": "8fa55ada-9fe3-4ee2-ab62-d09c5bfa5a39",
   "metadata": {},
   "source": [
    "# Algorithms for Supervised Learning\n",
    "Supervised learning is one of the important models of learning involved in training machines. This chapter talks in detail about the same.\n",
    "\n",
    "There are several algorithms available for supervised learning. Some of the widely used algorithms of supervised learning are as shown below −\n",
    "\n",
    "#### Linear Regression\n",
    "\n",
    "#### k-Nearest Neighbors\n",
    "\n",
    "#### Decision Trees\n",
    "\n",
    "#### Naive Bayes\n",
    "\n",
    "#### Logistic Regression\n",
    "\n",
    "#### Support Vector Machines\n",
    "\n",
    "#### Random Forest\n",
    "\n",
    "#### Gradient Boosting"
   ]
  },
  {
   "cell_type": "code",
   "execution_count": null,
   "id": "5d6ee86f-4af1-4d05-ae00-c6ce8bbefb3c",
   "metadata": {},
   "outputs": [],
   "source": []
  }
 ],
 "metadata": {
  "kernelspec": {
   "display_name": "Python 3 (ipykernel)",
   "language": "python",
   "name": "python3"
  },
  "language_info": {
   "codemirror_mode": {
    "name": "ipython",
    "version": 3
   },
   "file_extension": ".py",
   "mimetype": "text/x-python",
   "name": "python",
   "nbconvert_exporter": "python",
   "pygments_lexer": "ipython3",
   "version": "3.11.7"
  }
 },
 "nbformat": 4,
 "nbformat_minor": 5
}
