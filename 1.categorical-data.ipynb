{
 "cells": [
  {
   "cell_type": "markdown",
   "id": "6ab59399-8893-4917-bc3d-f8e0b0e334e4",
   "metadata": {},
   "source": [
    "# What is Categorical Data?\n",
    "\n",
    "Categorical data in Machine Learning refers to data that consists of categories or labels, rather than numerical values. These categories may be nominal, meaning that there is no inherent order or ranking between them (e.g., color, gender), or ordinal, meaning that there is a natural ordering between the categories (e.g., education level, income bracket).\r\n",
    "\r\n",
    "Categorical data is often represented using discrete values, such as integers or strings, and is frequently encoded as one-hot vectors before being used as input to machine learning models. One-hot encoding involves creating a binary vector for each category, where the vector has a 1 in the position corresponding to the category and 0s in all other positions."
   ]
  },
  {
   "cell_type": "markdown",
   "id": "11d1fb57-e4cc-4757-80a4-dc580cd5abb0",
   "metadata": {},
   "source": [
    "# Techniques for Handling Categorical Data\r\n",
    "Handling categorical data is an important part of machine learning preprocessing, as many algorithms require numerical input. Depending on the algorithm and the nature of the categorical data, different encoding techniques may be used, such as label encoding, ordinal encoding, or binary encoding etc.dingding\n"
   ]
  },
  {
   "cell_type": "markdown",
   "id": "06acaf54-5275-4158-af4b-49891c347fd7",
   "metadata": {},
   "source": [
    "1. One-Hot Encoding\n",
    "\n",
    "2. Label Encoding\n",
    "\n",
    "3. Frequency Encoding\n",
    "\n",
    "4. Target Encoding\n",
    "\n",
    "5. Binary Encoding"
   ]
  },
  {
   "cell_type": "markdown",
   "id": "fe1116b8-ba95-4ee7-99b9-a192c2e8dcd6",
   "metadata": {},
   "source": [
    "### 1. One-Hot Encoding\n",
    "\n",
    "One-hot encoding is a popular technique for handling categorical data in machine learning. It involves creating a binary vector for each category, where each element of the vector represents the presence or absence of the category. For example, if we have a categorical variable for color with values red, blue, and green, one-hot encoding would create three binary vectors: [1, 0, 0], [0, 1, 0], and [0, 0, 1] respectively."
   ]
  },
  {
   "cell_type": "code",
   "execution_count": 9,
   "id": "1a73933d-0911-4e3d-9aa1-e252697c75e3",
   "metadata": {},
   "outputs": [
    {
     "name": "stdout",
     "output_type": "stream",
     "text": [
      "-----------df ----- \n",
      "    color\n",
      "0    red\n",
      "1  green\n",
      "2   blue\n",
      "3    red\n",
      "4  green\n",
      "--------------one_hot_encoded ------\n",
      "    color_blue  color_green  color_red\n",
      "0       False        False       True\n",
      "1       False         True      False\n",
      "2        True        False      False\n",
      "3       False        False       True\n",
      "4       False         True      False\n",
      "-------------df-after-concat ----- \n",
      "    color  color_blue  color_green  color_red\n",
      "0    red       False        False       True\n",
      "1  green       False         True      False\n",
      "2   blue        True        False      False\n",
      "3    red       False        False       True\n",
      "4  green       False         True      False\n",
      "df-after-drpoing-color-column \n",
      "    color_blue  color_green  color_red\n",
      "0       False        False       True\n",
      "1       False         True      False\n",
      "2        True        False      False\n",
      "3       False        False       True\n",
      "4       False         True      False\n"
     ]
    }
   ],
   "source": [
    "import pandas as pd\n",
    "\n",
    "# Creating a sample dataset with a categorical variable\n",
    "data = {'color': ['red', 'green', 'blue', 'red', 'green']}\n",
    "df = pd.DataFrame(data)\n",
    "print(\"-----------df ----- \\n\", df)\n",
    "\n",
    "# Performing one-hot encoding\n",
    "# 0-index red --- color red is True remaining all are False\n",
    "# 1-index green --- color green is True remaining all are False\n",
    "# 2-index blue --- color blue is True remaining all are False\n",
    "# 3-index red --- color red is True remaining all are False\n",
    "# 4-index green --- color green is True remaining all are False\n",
    "one_hot_encoded = pd.get_dummies(df['color'], prefix='color')\n",
    "\n",
    "print(\"--------------one_hot_encoded ------\\n\", one_hot_encoded)\n",
    "# Combining the encoded data with the original data\n",
    "df = pd.concat([df, one_hot_encoded], axis=1)\n",
    "print(\"-------------df-after-concat ----- \\n\", df)\n",
    "\n",
    "# Drop the original categorical variable\n",
    "df = df.drop('color', axis=1)\n",
    "\n",
    "# Print the encoded data\n",
    "print(\"df-after-drpoing-color-column \\n\", df)\n"
   ]
  },
  {
   "cell_type": "markdown",
   "id": "7f8c76fe-8c59-4fb9-832d-b3a025620a8a",
   "metadata": {},
   "source": [
    "### 2. Label Encoding\n",
    "\n",
    "Label Encoding is another technique for handling categorical data in machine learning. It involves assigning a unique numerical value to each category in a categorical variable, with the order of the values based on the order of the categories.\r\n",
    "\r\n",
    "For example, suppose we have a categorical variable \"Size\" with three categories: \"small,\" \"medium,\" and \"large.\" Using label encoding, we would assign the values 0, 1, and 2 to these categories, respectively."
   ]
  },
  {
   "cell_type": "code",
   "execution_count": 16,
   "id": "8d383e2c-665c-48b6-bf3e-d86edb0f05bd",
   "metadata": {},
   "outputs": [
    {
     "name": "stdout",
     "output_type": "stream",
     "text": [
      "-------data--------\n",
      " ['small', 'medium', 'large', 'small', 'large']\n",
      "-------label_encoder--------\n",
      " LabelEncoder()\n",
      "-------encoded_data--------\n",
      " [2 1 0 2 0]\n"
     ]
    }
   ],
   "source": [
    "from sklearn.preprocessing import LabelEncoder\n",
    "\n",
    "# create a sample dataset with a categorical variable\n",
    "data = ['small', 'medium', 'large', 'small', 'large']\n",
    "print(\"-------data--------\\n\", data)\n",
    "\n",
    "# create a label encoder object\n",
    "label_encoder = LabelEncoder()\n",
    "print(\"-------label_encoder--------\\n\", label_encoder)\n",
    "\n",
    "# fit and transform the data using the label encoder\n",
    "# large is assigned 0\n",
    "# medium is assigned 1\n",
    "# small is assigned 2\n",
    "encoded_data = label_encoder.fit_transform(data)\n",
    "print(\"-------encoded_data--------\\n\", encoded_data)\n"
   ]
  },
  {
   "cell_type": "markdown",
   "id": "07a4d19e-5633-4693-9c83-6fdeeae4bae2",
   "metadata": {},
   "source": [
    "### 3. Frequency Encoding\n",
    "\n",
    "Frequency Encoding is another technique for handling categorical data in machine learning. It involves replacing each category in a categorical variable with its frequency (or count) in the dataset. The idea behind frequency encoding is that categories that appear more frequently may be more important or informative for the machine learning algorithm."
   ]
  },
  {
   "cell_type": "code",
   "execution_count": 19,
   "id": "0f15b8b9-18cc-4f03-8899-7a812bb5c15e",
   "metadata": {},
   "outputs": [
    {
     "name": "stdout",
     "output_type": "stream",
     "text": [
      "-----------df ----- \n",
      "    color\n",
      "0    red\n",
      "1  green\n",
      "2   blue\n",
      "3    red\n",
      "4  green\n",
      "-----------freq ----- \n",
      " color\n",
      "red      0.4\n",
      "green    0.4\n",
      "blue     0.2\n",
      "Name: proportion, dtype: float64\n",
      "-----------final-df ----- \n",
      "    color_freq\n",
      "0         0.4\n",
      "1         0.4\n",
      "2         0.2\n",
      "3         0.4\n",
      "4         0.4\n"
     ]
    }
   ],
   "source": [
    "import pandas as pd\n",
    "\n",
    "# create a sample dataset with a categorical variable\n",
    "data = {'color': ['red', 'green', 'blue', 'red', 'green']}\n",
    "df = pd.DataFrame(data)\n",
    "print(\"-----------df ----- \\n\", df)\n",
    "\n",
    "# calculate the frequency of each category in the categorical variable\n",
    "# red occurced for two times---- 2/5 --- 0.4\n",
    "# green occurced for two times---- 2/5 --- 0.4\n",
    "# blue occurced for 1 time---- 1/5 --- 0.2\n",
    "freq = df['color'].value_counts(normalize=True)\n",
    "print(\"-----------freq ----- \\n\", freq)\n",
    "\n",
    "# replace each category with its frequency\n",
    "df['color_freq'] = df['color'].map(freq)\n",
    "\n",
    "# drop the original categorical variable\n",
    "df = df.drop('color', axis=1)\n",
    "print(\"-----------final-df ----- \\n\", df)\n"
   ]
  },
  {
   "cell_type": "markdown",
   "id": "aba5d30a-f38c-4a67-980c-fe2f5211f7af",
   "metadata": {},
   "source": [
    "### 4. Target Encoding\n",
    "\n",
    "Target Encoding is another technique for handling categorical data in machine learning. It involves replacing each category in a categorical variable with the mean (or other aggregation) of the target variable (i.e., the variable you want to predict) for that category. The idea behind target encoding is that it can capture the relationship between the categorical variable and the target variable, and therefore improve the predictive performance of the machine learning model."
   ]
  },
  {
   "cell_type": "code",
   "execution_count": 21,
   "id": "038831ee-1aad-492f-b587-47e41fb73bf6",
   "metadata": {},
   "outputs": [
    {
     "name": "stdout",
     "output_type": "stream",
     "text": [
      "   color  target  color_encoded\n",
      "0    red       1            0.5\n",
      "1  green       0            0.5\n",
      "2   blue       1            1.0\n",
      "3    red       0            0.5\n",
      "4  green       1            0.5\n"
     ]
    }
   ],
   "source": [
    "import pandas as pd\n",
    "from sklearn.preprocessing import LabelEncoder\n",
    "\n",
    "# create a sample dataset with a categorical variable and a target variable\n",
    "data = {'color': ['red', 'green', 'blue', 'red', 'green'],\n",
    "   'target': [1, 0, 1, 0, 1]}\n",
    "df = pd.DataFrame(data)\n",
    "\n",
    "# create a label encoder object and fit it to the data\n",
    "label_encoder = LabelEncoder()\n",
    "# transform the categorical variable using the label encoder\n",
    "df['color_encoded'] = label_encoder.fit_transform(df['color'])\n",
    "\n",
    "# create a mean encoder object and fit it to the transformed data\n",
    "mean_encoder = df.groupby('color_encoded')['target'].mean().to_dict()\n",
    "\n",
    "# map the mean encoded values to the categorical variable\n",
    "df['color_encoded'] = df['color_encoded'].map(mean_encoder)\n",
    "\n",
    "# print the encoded data\n",
    "print(df)"
   ]
  },
  {
   "cell_type": "markdown",
   "id": "8cf581ce-a695-4552-9e0b-13f1196a11e0",
   "metadata": {},
   "source": [
    "# 5. Binary Encoding\r\n",
    "\n",
    "Binary encoding is another technique used for encoding categorical variables in machine learning. In binary encoding, each category is assigned a binary code, where each digit represents whether the category is present (1) or not (0). The binary codes are typically based on the position of the category in a sorted list of all categories.."
   ]
  },
  {
   "cell_type": "code",
   "execution_count": 5,
   "id": "88569a38-7597-4235-9198-5a7ece08919f",
   "metadata": {},
   "outputs": [
    {
     "name": "stdout",
     "output_type": "stream",
     "text": [
      "-----------df ----- \n",
      "    color\n",
      "0    red\n",
      "1  green\n",
      "2   blue\n",
      "3    red\n",
      "4  green\n",
      "-----------binary_encoder ----- \n",
      " BinaryEncoder(cols=['color'])\n",
      "-----------encoded_data ----- \n",
      "    color_0  color_1\n",
      "0        0        1\n",
      "1        1        0\n",
      "2        1        1\n",
      "3        0        1\n",
      "4        1        0\n",
      "-----------final-df ----- \n",
      "    color  color_0  color_1\n",
      "0    red        0        1\n",
      "1  green        1        0\n",
      "2   blue        1        1\n",
      "3    red        0        1\n",
      "4  green        1        0\n"
     ]
    }
   ],
   "source": [
    "import pandas as pd\n",
    "import category_encoders as ce\n",
    "\n",
    "# create a sample dataset with a categorical variable\n",
    "data = {'color': ['red', 'green', 'blue', 'red', 'green']}\n",
    "df = pd.DataFrame(data)\n",
    "print(\"-----------df ----- \\n\", df)\n",
    "\n",
    "# create a binary encoder object and fit it to the data\n",
    "binary_encoder = ce.BinaryEncoder(cols=['color'])\n",
    "print(\"-----------binary_encoder ----- \\n\", binary_encoder)\n",
    "\n",
    "# transform the categorical variable using the binary encoder\n",
    "encoded_data = binary_encoder.fit_transform(df['color'])\n",
    "print(\"-----------encoded_data ----- \\n\", encoded_data)\n",
    "\n",
    "# merge the encoded variable with the original dataframe\n",
    "df = pd.concat([df, encoded_data], axis=1)\n",
    "print(\"-----------final-df ----- \\n\", df)\n"
   ]
  },
  {
   "cell_type": "code",
   "execution_count": null,
   "id": "654ab1de-78da-4ab4-a250-d105700e81e9",
   "metadata": {},
   "outputs": [],
   "source": []
  }
 ],
 "metadata": {
  "kernelspec": {
   "display_name": "Python 3 (ipykernel)",
   "language": "python",
   "name": "python3"
  },
  "language_info": {
   "codemirror_mode": {
    "name": "ipython",
    "version": 3
   },
   "file_extension": ".py",
   "mimetype": "text/x-python",
   "name": "python",
   "nbconvert_exporter": "python",
   "pygments_lexer": "ipython3",
   "version": "3.11.7"
  }
 },
 "nbformat": 4,
 "nbformat_minor": 5
}
