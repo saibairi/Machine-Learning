{
 "cells": [
  {
   "cell_type": "markdown",
   "id": "9adab1a7-4c61-44d2-a246-062b6f1fa785",
   "metadata": {},
   "source": [
    "# What is Supervised Machine Learning?\n",
    "\n",
    "Supervised learning, also known as supervised machine learning, is a type of machine learning that trains the model using labeled datasets to predict outcomes. A Labeled dataset is one that consists of input data (features) along with corresponding output data (targets).\n",
    "\n",
    "The main objective of supervised learning algorithms is to learn an association between input data samples and corresponding outputs after performing multiple training data instances."
   ]
  },
  {
   "cell_type": "markdown",
   "id": "69fa019c-e178-4598-ad42-741c5441bb3b",
   "metadata": {},
   "source": [
    "# How does Supervised Learning Work?\n",
    "\n",
    "In supervised machine learning, models are trained using a dataset that consists of input-output pairs.\n",
    "\n",
    "\n",
    "The supervised learning algorithm analyzes the dataset and learns the relation between the input data (features) and correct output (labels/ targets). In the process of training, the model estimates the algorithm's parameters by minimizing a loss function. The loss function measures the difference between the model's predictions and actual target values.\n",
    "\n",
    "\n",
    "The model iteratively updates its parameters until the loss/ error has been sufficiently minimized.\n",
    "\n",
    "\n",
    "Once the training is completed, the model parameters have optimal values. The model has learned the optimal mapping/ relation between the inputs and targets. Now, the model can predict values for the new and unseen input data."
   ]
  },
  {
   "cell_type": "markdown",
   "id": "d19a501a-3bb1-4082-bdfc-f91c4ded9c76",
   "metadata": {},
   "source": [
    "# Types of Supervised Learning Algorithm\n",
    "\n",
    "Supervised machine learning is categorized into two types of problems − classification and regression.\n",
    "\n",
    "### 1. Classification\n",
    "   \n",
    "The key objective of classification-based tasks is to predict categorical output labels or responses for the given input data such as true-false, male-female, yes-no etc. As we know, the categorical output responses mean unordered and discrete values; hence, each output response will belong to a specific class or category.\n",
    "\n",
    "Some popular classification algorithms are decision trees, random forests, support vector machines (SVM), logistic regression, etc.\n",
    "\n",
    "### 2. Regression\n",
    "   \n",
    "The key objective of regression-based tasks is to predict output labels or responses, which are continuous numeric values, for the given input data. Basically, regression models use the input data features (independent variables) and their corresponding continuous numeric output values (dependent or outcome variables) to learn specific associations between inputs and corresponding outputs.\n",
    "\n",
    "Some popular regression algorithms are linear regression, polynomial regression, Laso regression, etc."
   ]
  },
  {
   "cell_type": "markdown",
   "id": "8fa55ada-9fe3-4ee2-ab62-d09c5bfa5a39",
   "metadata": {},
   "source": [
    "# Algorithms for Supervised Learning\n",
    "Supervised learning is one of the important models of learning involved in training machines. This chapter talks in detail about the same.\n",
    "\n",
    "There are several algorithms available for supervised learning. Some of the widely used algorithms of supervised learning are as shown below −\n",
    "\n",
    "#### Linear Regression\n",
    "\n",
    "#### k-Nearest Neighbors\n",
    "\n",
    "#### Decision Trees\n",
    "\n",
    "#### Naive Bayes\n",
    "\n",
    "#### Logistic Regression\n",
    "\n",
    "#### Support Vector Machines\n",
    "\n",
    "#### Random Forest\n",
    "\n",
    "#### Gradient Boosting"
   ]
  },
  {
   "cell_type": "markdown",
   "id": "8221b8ce-c90d-4d22-bd5c-a39fe4dd77ad",
   "metadata": {},
   "source": [
    "# Advantages of Supervised Learning\n",
    "\n",
    "Supervised learning algorithms are one of the most popular among the machine learning models. Some benefits are:-\n",
    "\n",
    "The goal in supervised learning is well-defined, which improves the prediction accuracy.\n",
    "\n",
    "Models trained using supervised learning are effective at predicting and classification since they use labeled datasets.\n",
    "\n",
    "It can be highly versatile, i.e., applied to various problems, like spam detection, stock prices, etc."
   ]
  },
  {
   "cell_type": "markdown",
   "id": "c37e30c3-d9a2-4827-ad19-4a5521248dc2",
   "metadata": {},
   "source": [
    "# Disadvantages of Supervised Learning\n",
    "\n",
    "Though supervised learning is the most used, it comes with certain challenges too. Some of them are:\n",
    "\n",
    "Supervised learning requires a large amount of labeled data for the model to train effectively. It is practically very difficult to collect such huge \n",
    "data; it is expensive and time-consuming.\n",
    "\n",
    "Supervised learning cannot predict accurately if the test data is different from the training data.\n",
    "\n",
    "Accurately labeling the data is complex and requires expertise and effort."
   ]
  },
  {
   "cell_type": "markdown",
   "id": "50ae7417-df41-4866-9aa5-594ce72196ce",
   "metadata": {},
   "source": [
    "# Applications of Supervised learning\n",
    "\n",
    "Supervised learning models are widely used in many applications in various sectors, including the following-\n",
    "\n",
    "\n",
    "#### Image recognition:\n",
    "\n",
    "A model is trained on a labeled dataset of images, where each image is associated with a label. The model is fed with data, which allows it to learn patterns and features. Once trained, the model can now be tested using new, unseen data. This is widely used in applications like facial recognition and object detection.\n",
    "\n",
    "\n",
    "#### Predictive analytics:\n",
    "\n",
    "Supervised learning algorithms are used to train labeled historical data, allowing the model to learn patterns and relations between input features and output to identify trends and make accurate predictions. Businesses use this method to make data-driven decisions and enhance strategic planning."
   ]
  }
 ],
 "metadata": {
  "kernelspec": {
   "display_name": "Python 3 (ipykernel)",
   "language": "python",
   "name": "python3"
  },
  "language_info": {
   "codemirror_mode": {
    "name": "ipython",
    "version": 3
   },
   "file_extension": ".py",
   "mimetype": "text/x-python",
   "name": "python",
   "nbconvert_exporter": "python",
   "pygments_lexer": "ipython3",
   "version": "3.11.7"
  }
 },
 "nbformat": 4,
 "nbformat_minor": 5
}
